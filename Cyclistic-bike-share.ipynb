{
 "cells": [
  {
   "cell_type": "markdown",
   "id": "54d96acf-e4a6-4330-b3ae-eb171cd97f8d",
   "metadata": {},
   "source": [
    "### Importing required packages"
   ]
  },
  {
   "cell_type": "code",
   "execution_count": 36,
   "id": "99126c16-b9cb-4d55-9178-025a08327e4e",
   "metadata": {},
   "outputs": [],
   "source": [
    "import numpy as np\n",
    "import pandas as pd\n",
    "import matplotlib.pyplot as plt\n",
    "import seaborn as sns\n",
    "import os"
   ]
  },
  {
   "cell_type": "markdown",
   "id": "cfd3a70a-f79f-419c-802d-dfdeaad049db",
   "metadata": {},
   "source": [
    "### Set folder path and get the list of all the .csv files"
   ]
  },
  {
   "cell_type": "code",
   "execution_count": 3,
   "id": "2df0472d-c95b-4db4-a577-d8dd942d8ff2",
   "metadata": {},
   "outputs": [],
   "source": [
    "folder_path = r'C:\\Users\\DELL\\Downloads\\Cyclistic'\n",
    "\n",
    "# getting the list of all the 12 .csv files\n",
    "csv_files = [f for f in os.listdir(folder_path) if f.endswith('.csv')]"
   ]
  },
  {
   "cell_type": "markdown",
   "id": "c8e2b517-f91f-4c21-8f21-1a98395d6272",
   "metadata": {},
   "source": [
    "### Combine all the .csv files into one DataFrame"
   ]
  },
  {
   "cell_type": "code",
   "execution_count": 4,
   "id": "226e559e-2033-4e51-9b72-ca2aa424ff9e",
   "metadata": {},
   "outputs": [],
   "source": [
    "combined_df = pd.concat(\n",
    "    (pd.read_csv(os.path.join(folder_path, file)) for file in csv_files),\n",
    "    ignore_index=True\n",
    ")"
   ]
  },
  {
   "cell_type": "markdown",
   "id": "2a0def06-3758-49c3-9af0-053612e7b3db",
   "metadata": {},
   "source": [
    "### Save the combined .CSV file"
   ]
  },
  {
   "cell_type": "code",
   "execution_count": 5,
   "id": "2763c437-431e-4886-ba05-dd2bdfeccc8f",
   "metadata": {},
   "outputs": [
    {
     "name": "stdout",
     "output_type": "stream",
     "text": [
      "All files combined and saved to: C:\\Users\\DELL\\Downloads\\Cyclistic\\combined_cyclistic_data.csv\n"
     ]
    }
   ],
   "source": [
    "output_file = os.path.join(folder_path, 'combined_cyclistic_data.csv')\n",
    "combined_df.to_csv(output_file, index=False)\n",
    "\n",
    "# confirming if all the files are combined and saved successfully\n",
    "print(f\"All files combined and saved to: {output_file}\")"
   ]
  },
  {
   "cell_type": "markdown",
   "id": "2b3014fa-34f5-40dd-bebf-9d3e57923cb5",
   "metadata": {},
   "source": [
    "### Load the combined csv file"
   ]
  },
  {
   "cell_type": "code",
   "execution_count": 6,
   "id": "8dcc79dc-ea09-44fb-9cdf-7da03e2978ed",
   "metadata": {},
   "outputs": [],
   "source": [
    "df = pd.read_csv(r'C:\\Users\\DELL\\Downloads\\Cyclistic\\combined_cyclistic_data.csv')"
   ]
  },
  {
   "cell_type": "markdown",
   "id": "7a6c7e31-d4b9-4b09-9ea3-beb9cc167b78",
   "metadata": {},
   "source": [
    "### Data cleaning\n",
    "Here we will perform data cleaning such as changing the format of data etc"
   ]
  },
  {
   "cell_type": "code",
   "execution_count": 7,
   "id": "6a74d147-7928-41e7-8a27-25152ec8c805",
   "metadata": {},
   "outputs": [
    {
     "name": "stdout",
     "output_type": "stream",
     "text": [
      "Found 5333470 rows with invalid 'started_at' dates.\n",
      "Found 5333470 rows with invalid 'ended_at' dates.\n"
     ]
    }
   ],
   "source": [
    "# Converting 'started_at' and 'ended_at' columns to datetime\n",
    "df['started_at'] = pd.to_datetime(df['started_at'], errors='coerce', dayfirst=False)\n",
    "df['ended_at'] = pd.to_datetime(df['ended_at'], errors='coerce', dayfirst=False)\n",
    "\n",
    "# Check for rows where conversion failed\n",
    "invalid_start = df[df['started_at'].isna()]\n",
    "invalid_end = df[df['ended_at'].isna()]\n",
    "\n",
    "if not invalid_start.empty:\n",
    "    print(f\"Found {len(invalid_start)} rows with invalid 'started_at' dates.\")\n",
    "if not invalid_end.empty:\n",
    "    print(f\"Found {len(invalid_end)} rows with invalid 'ended_at' dates.\")"
   ]
  },
  {
   "cell_type": "code",
   "execution_count": 8,
   "id": "085e6b76-80e0-4f45-aa42-7f134acdc885",
   "metadata": {},
   "outputs": [],
   "source": [
    "# Calculate 'ride_length' in minutes\n",
    "df['ride_length'] = (df['ended_at'] - df['started_at']).dt.total_seconds() / 60\n",
    "\n",
    "# Extract 'day_of_week' from 'started_at'\n",
    "df['day_of_week'] = df['started_at'].dt.day_name()\n",
    "\n",
    "# Remove rows with missing station names or negative ride lengths\n",
    "df_cleaned = df.dropna(subset=['start_station_name', 'end_station_name'])\n",
    "df_cleaned = df_cleaned[df_cleaned['ride_length'] > 0]"
   ]
  },
  {
   "cell_type": "markdown",
   "id": "8cb8c53e-5f73-445a-b876-8ce8c0b130d8",
   "metadata": {},
   "source": [
    "### Now convert the 'started_at' and 'ended_at' columns into strings to eliminate the remaining errors"
   ]
  },
  {
   "cell_type": "code",
   "execution_count": 9,
   "id": "845c0fb2-8373-4c93-855d-b96cc517e181",
   "metadata": {},
   "outputs": [
    {
     "name": "stdout",
     "output_type": "stream",
     "text": [
      "Empty DataFrame\n",
      "Columns: [started_at, ended_at]\n",
      "Index: []\n"
     ]
    }
   ],
   "source": [
    "df['started_at_str'] = df['started_at'].astype(str)\n",
    "df['ended_at_str'] = df['ended_at'].astype(str)\n",
    "\n",
    "# Check for rows with milliseconds in 'started_at'\n",
    "df_invalid_dates = df[df['started_at_str'].str.contains(r'\\.\\d{3}', na=False)]\n",
    "\n",
    "# Print rows with problematic date formats\n",
    "print(df_invalid_dates[['started_at', 'ended_at']])\n",
    "\n",
    "# Fix malformed dates by removing the milliseconds\n",
    "df['started_at'] = df['started_at_str'].str.replace(r'\\.\\d{3}', '', regex=True)\n",
    "df['ended_at'] = df['ended_at_str'].str.replace(r'\\.\\d{3}', '', regex=True)"
   ]
  },
  {
   "cell_type": "markdown",
   "id": "85041e93-946c-4d92-b93c-529420fa1d3e",
   "metadata": {},
   "source": [
    "### Convert back to datetime format"
   ]
  },
  {
   "cell_type": "code",
   "execution_count": 10,
   "id": "1c27a824-0bff-4d7d-bd10-7da458e0951d",
   "metadata": {},
   "outputs": [],
   "source": [
    "df['started_at'] = pd.to_datetime(df['started_at'], errors='coerce')\n",
    "df['ended_at'] = pd.to_datetime(df['ended_at'], errors='coerce')"
   ]
  },
  {
   "cell_type": "markdown",
   "id": "05d1ea96-ec3b-4a9b-a5bf-864650137349",
   "metadata": {},
   "source": [
    "### Recalculate the 'ride_length'"
   ]
  },
  {
   "cell_type": "code",
   "execution_count": 11,
   "id": "8d0501d8-5a8e-4b55-9e1b-0c7ec48e76c8",
   "metadata": {},
   "outputs": [],
   "source": [
    "df['ride_length'] = (df['ended_at'] - df['started_at']).dt.total_seconds() / 60\n",
    "df['day_of_week'] = df['started_at'].dt.day_name()"
   ]
  },
  {
   "cell_type": "markdown",
   "id": "7eca798a-232f-40b3-a411-328dee2b1946",
   "metadata": {},
   "source": [
    "### Filter out the rows with missing station_names or neagtive ride_lengths"
   ]
  },
  {
   "cell_type": "code",
   "execution_count": 12,
   "id": "cb8b495f-2dc5-48d3-abf1-5a728da8cca6",
   "metadata": {},
   "outputs": [],
   "source": [
    "df_cleaned = df.dropna(subset=['start_station_name', 'end_station_name'])\n",
    "df_cleaned = df_cleaned[df_cleaned['ride_length'] > 0]"
   ]
  },
  {
   "cell_type": "markdown",
   "id": "d6f2efaa-d315-4340-8bfb-86cbd5da48b8",
   "metadata": {},
   "source": [
    "### Save the cleaned dataset as a .csv file"
   ]
  },
  {
   "cell_type": "code",
   "execution_count": 13,
   "id": "1948649f-5546-4aeb-be3d-b5c26a7bd2aa",
   "metadata": {},
   "outputs": [
    {
     "name": "stdout",
     "output_type": "stream",
     "text": [
      "Malformed dates fixed and data cleaned.\n"
     ]
    }
   ],
   "source": [
    "df_cleaned.to_csv('cleaned_cyclistic_data.csv', index=False)\n",
    "\n",
    "print(\"Malformed dates fixed and data cleaned.\")"
   ]
  },
  {
   "cell_type": "markdown",
   "id": "48ae5e3c-3cd5-4cb0-b576-c2d05605c897",
   "metadata": {},
   "source": [
    "### Checking if data cleaning was complete"
   ]
  },
  {
   "cell_type": "code",
   "execution_count": 14,
   "id": "85ea37a9-f631-4187-bd67-1a02f4f55355",
   "metadata": {},
   "outputs": [
    {
     "data": {
      "text/html": [
       "<div>\n",
       "<style scoped>\n",
       "    .dataframe tbody tr th:only-of-type {\n",
       "        vertical-align: middle;\n",
       "    }\n",
       "\n",
       "    .dataframe tbody tr th {\n",
       "        vertical-align: top;\n",
       "    }\n",
       "\n",
       "    .dataframe thead th {\n",
       "        text-align: right;\n",
       "    }\n",
       "</style>\n",
       "<table border=\"1\" class=\"dataframe\">\n",
       "  <thead>\n",
       "    <tr style=\"text-align: right;\">\n",
       "      <th></th>\n",
       "      <th>ride_id</th>\n",
       "      <th>rideable_type</th>\n",
       "      <th>started_at</th>\n",
       "      <th>ended_at</th>\n",
       "      <th>start_station_name</th>\n",
       "      <th>start_station_id</th>\n",
       "      <th>end_station_name</th>\n",
       "      <th>end_station_id</th>\n",
       "      <th>start_lat</th>\n",
       "      <th>start_lng</th>\n",
       "      <th>end_lat</th>\n",
       "      <th>end_lng</th>\n",
       "      <th>member_casual</th>\n",
       "      <th>ride_length</th>\n",
       "      <th>day_of_week</th>\n",
       "      <th>started_at_str</th>\n",
       "      <th>ended_at_str</th>\n",
       "    </tr>\n",
       "  </thead>\n",
       "  <tbody>\n",
       "    <tr>\n",
       "      <th>0</th>\n",
       "      <td>C1D650626C8C899A</td>\n",
       "      <td>electric_bike</td>\n",
       "      <td>2024-01-12 15:30:27</td>\n",
       "      <td>2024-01-12 15:37:59</td>\n",
       "      <td>Wells St &amp; Elm St</td>\n",
       "      <td>KA1504000135</td>\n",
       "      <td>Kingsbury St &amp; Kinzie St</td>\n",
       "      <td>KA1503000043</td>\n",
       "      <td>41.903267</td>\n",
       "      <td>-87.634737</td>\n",
       "      <td>41.889177</td>\n",
       "      <td>-87.638506</td>\n",
       "      <td>member</td>\n",
       "      <td>7.533333</td>\n",
       "      <td>Friday</td>\n",
       "      <td>2024-01-12 15:30:27</td>\n",
       "      <td>2024-01-12 15:37:59</td>\n",
       "    </tr>\n",
       "    <tr>\n",
       "      <th>1</th>\n",
       "      <td>EECD38BDB25BFCB0</td>\n",
       "      <td>electric_bike</td>\n",
       "      <td>2024-01-08 15:45:46</td>\n",
       "      <td>2024-01-08 15:52:59</td>\n",
       "      <td>Wells St &amp; Elm St</td>\n",
       "      <td>KA1504000135</td>\n",
       "      <td>Kingsbury St &amp; Kinzie St</td>\n",
       "      <td>KA1503000043</td>\n",
       "      <td>41.902937</td>\n",
       "      <td>-87.634440</td>\n",
       "      <td>41.889177</td>\n",
       "      <td>-87.638506</td>\n",
       "      <td>member</td>\n",
       "      <td>7.216667</td>\n",
       "      <td>Monday</td>\n",
       "      <td>2024-01-08 15:45:46</td>\n",
       "      <td>2024-01-08 15:52:59</td>\n",
       "    </tr>\n",
       "    <tr>\n",
       "      <th>2</th>\n",
       "      <td>F4A9CE78061F17F7</td>\n",
       "      <td>electric_bike</td>\n",
       "      <td>2024-01-27 12:27:19</td>\n",
       "      <td>2024-01-27 12:35:19</td>\n",
       "      <td>Wells St &amp; Elm St</td>\n",
       "      <td>KA1504000135</td>\n",
       "      <td>Kingsbury St &amp; Kinzie St</td>\n",
       "      <td>KA1503000043</td>\n",
       "      <td>41.902951</td>\n",
       "      <td>-87.634470</td>\n",
       "      <td>41.889177</td>\n",
       "      <td>-87.638506</td>\n",
       "      <td>member</td>\n",
       "      <td>8.000000</td>\n",
       "      <td>Saturday</td>\n",
       "      <td>2024-01-27 12:27:19</td>\n",
       "      <td>2024-01-27 12:35:19</td>\n",
       "    </tr>\n",
       "    <tr>\n",
       "      <th>3</th>\n",
       "      <td>0A0D9E15EE50B171</td>\n",
       "      <td>classic_bike</td>\n",
       "      <td>2024-01-29 16:26:17</td>\n",
       "      <td>2024-01-29 16:56:06</td>\n",
       "      <td>Wells St &amp; Randolph St</td>\n",
       "      <td>TA1305000030</td>\n",
       "      <td>Larrabee St &amp; Webster Ave</td>\n",
       "      <td>13193</td>\n",
       "      <td>41.884295</td>\n",
       "      <td>-87.633963</td>\n",
       "      <td>41.921822</td>\n",
       "      <td>-87.644140</td>\n",
       "      <td>member</td>\n",
       "      <td>29.816667</td>\n",
       "      <td>Monday</td>\n",
       "      <td>2024-01-29 16:26:17</td>\n",
       "      <td>2024-01-29 16:56:06</td>\n",
       "    </tr>\n",
       "    <tr>\n",
       "      <th>4</th>\n",
       "      <td>33FFC9805E3EFF9A</td>\n",
       "      <td>classic_bike</td>\n",
       "      <td>2024-01-31 05:43:23</td>\n",
       "      <td>2024-01-31 06:09:35</td>\n",
       "      <td>Lincoln Ave &amp; Waveland Ave</td>\n",
       "      <td>13253</td>\n",
       "      <td>Kingsbury St &amp; Kinzie St</td>\n",
       "      <td>KA1503000043</td>\n",
       "      <td>41.948797</td>\n",
       "      <td>-87.675278</td>\n",
       "      <td>41.889177</td>\n",
       "      <td>-87.638506</td>\n",
       "      <td>member</td>\n",
       "      <td>26.200000</td>\n",
       "      <td>Wednesday</td>\n",
       "      <td>2024-01-31 05:43:23</td>\n",
       "      <td>2024-01-31 06:09:35</td>\n",
       "    </tr>\n",
       "  </tbody>\n",
       "</table>\n",
       "</div>"
      ],
      "text/plain": [
       "            ride_id  rideable_type           started_at             ended_at  \\\n",
       "0  C1D650626C8C899A  electric_bike  2024-01-12 15:30:27  2024-01-12 15:37:59   \n",
       "1  EECD38BDB25BFCB0  electric_bike  2024-01-08 15:45:46  2024-01-08 15:52:59   \n",
       "2  F4A9CE78061F17F7  electric_bike  2024-01-27 12:27:19  2024-01-27 12:35:19   \n",
       "3  0A0D9E15EE50B171   classic_bike  2024-01-29 16:26:17  2024-01-29 16:56:06   \n",
       "4  33FFC9805E3EFF9A   classic_bike  2024-01-31 05:43:23  2024-01-31 06:09:35   \n",
       "\n",
       "           start_station_name start_station_id           end_station_name  \\\n",
       "0           Wells St & Elm St     KA1504000135   Kingsbury St & Kinzie St   \n",
       "1           Wells St & Elm St     KA1504000135   Kingsbury St & Kinzie St   \n",
       "2           Wells St & Elm St     KA1504000135   Kingsbury St & Kinzie St   \n",
       "3      Wells St & Randolph St     TA1305000030  Larrabee St & Webster Ave   \n",
       "4  Lincoln Ave & Waveland Ave            13253   Kingsbury St & Kinzie St   \n",
       "\n",
       "  end_station_id  start_lat  start_lng    end_lat    end_lng member_casual  \\\n",
       "0   KA1503000043  41.903267 -87.634737  41.889177 -87.638506        member   \n",
       "1   KA1503000043  41.902937 -87.634440  41.889177 -87.638506        member   \n",
       "2   KA1503000043  41.902951 -87.634470  41.889177 -87.638506        member   \n",
       "3          13193  41.884295 -87.633963  41.921822 -87.644140        member   \n",
       "4   KA1503000043  41.948797 -87.675278  41.889177 -87.638506        member   \n",
       "\n",
       "   ride_length day_of_week       started_at_str         ended_at_str  \n",
       "0     7.533333      Friday  2024-01-12 15:30:27  2024-01-12 15:37:59  \n",
       "1     7.216667      Monday  2024-01-08 15:45:46  2024-01-08 15:52:59  \n",
       "2     8.000000    Saturday  2024-01-27 12:27:19  2024-01-27 12:35:19  \n",
       "3    29.816667      Monday  2024-01-29 16:26:17  2024-01-29 16:56:06  \n",
       "4    26.200000   Wednesday  2024-01-31 05:43:23  2024-01-31 06:09:35  "
      ]
     },
     "execution_count": 14,
     "metadata": {},
     "output_type": "execute_result"
    }
   ],
   "source": [
    "df = pd.read_csv(r\"cleaned_cyclistic_data.csv\")\n",
    "df.head()"
   ]
  },
  {
   "cell_type": "code",
   "execution_count": 15,
   "id": "c7c8c93b-82a9-4f1c-add3-ab1c706e5aab",
   "metadata": {},
   "outputs": [
    {
     "data": {
      "text/plain": [
       "ride_id                object\n",
       "rideable_type          object\n",
       "started_at             object\n",
       "ended_at               object\n",
       "start_station_name     object\n",
       "start_station_id       object\n",
       "end_station_name       object\n",
       "end_station_id         object\n",
       "start_lat             float64\n",
       "start_lng             float64\n",
       "end_lat               float64\n",
       "end_lng               float64\n",
       "member_casual          object\n",
       "ride_length           float64\n",
       "day_of_week            object\n",
       "started_at_str         object\n",
       "ended_at_str           object\n",
       "dtype: object"
      ]
     },
     "execution_count": 15,
     "metadata": {},
     "output_type": "execute_result"
    }
   ],
   "source": [
    "# checking the data type of columns\n",
    "df.dtypes\n",
    "\n",
    "# so we can see that data type of all the columns are correct"
   ]
  },
  {
   "cell_type": "markdown",
   "id": "826319c8-9af7-4f18-9e5f-a5f9e87a42a2",
   "metadata": {},
   "source": [
    "### Drop the temporary string columns such as started_at_str and ended_at_str"
   ]
  },
  {
   "cell_type": "code",
   "execution_count": 16,
   "id": "2b110b2b-a51f-4cd3-b95d-aeb5434b2ec2",
   "metadata": {},
   "outputs": [
    {
     "name": "stdout",
     "output_type": "stream",
     "text": [
      "Index(['ride_id', 'rideable_type', 'started_at', 'ended_at',\n",
      "       'start_station_name', 'start_station_id', 'end_station_name',\n",
      "       'end_station_id', 'start_lat', 'start_lng', 'end_lat', 'end_lng',\n",
      "       'member_casual', 'ride_length', 'day_of_week'],\n",
      "      dtype='object')\n"
     ]
    }
   ],
   "source": [
    "df_cleaned = df_cleaned.drop(columns=['started_at_str', 'ended_at_str'])\n",
    "\n",
    "# Verify that the columns were dropped\n",
    "print(df_cleaned.columns)"
   ]
  },
  {
   "cell_type": "code",
   "execution_count": 17,
   "id": "41f8675e-a685-480b-b6f6-c18c07185bee",
   "metadata": {},
   "outputs": [
    {
     "name": "stdout",
     "output_type": "stream",
     "text": [
      "ride_id               0\n",
      "rideable_type         0\n",
      "started_at            0\n",
      "ended_at              0\n",
      "start_station_name    0\n",
      "start_station_id      0\n",
      "end_station_name      0\n",
      "end_station_id        0\n",
      "start_lat             0\n",
      "start_lng             0\n",
      "end_lat               0\n",
      "end_lng               0\n",
      "member_casual         0\n",
      "ride_length           0\n",
      "day_of_week           0\n",
      "dtype: int64\n"
     ]
    }
   ],
   "source": [
    "### Check for missing values in cleaned DataFrame\n",
    "print(df_cleaned.isnull().sum())"
   ]
  },
  {
   "cell_type": "code",
   "execution_count": 18,
   "id": "e0c1b010-9828-4a92-a2a3-0eddd1629055",
   "metadata": {},
   "outputs": [
    {
     "name": "stdout",
     "output_type": "stream",
     "text": [
      "ride_id                       object\n",
      "rideable_type                 object\n",
      "started_at            datetime64[ns]\n",
      "ended_at              datetime64[ns]\n",
      "start_station_name            object\n",
      "start_station_id              object\n",
      "end_station_name              object\n",
      "end_station_id                object\n",
      "start_lat                    float64\n",
      "start_lng                    float64\n",
      "end_lat                      float64\n",
      "end_lng                      float64\n",
      "member_casual                 object\n",
      "ride_length                  float64\n",
      "day_of_week                   object\n",
      "dtype: object\n"
     ]
    }
   ],
   "source": [
    "### Check for data types of all the columns one last time\n",
    "print(df_cleaned.dtypes)"
   ]
  },
  {
   "cell_type": "markdown",
   "id": "b3e4b493-da69-45f5-bfdc-cb2ef9889baa",
   "metadata": {},
   "source": [
    "### Give the columns more reasonable names"
   ]
  },
  {
   "cell_type": "code",
   "execution_count": 19,
   "id": "cdabe7b4-2de7-4bc2-ab47-c88ecd1bf24e",
   "metadata": {},
   "outputs": [
    {
     "name": "stdout",
     "output_type": "stream",
     "text": [
      "Index(['Ride_ID', 'Bike_type', 'Start_time', 'End_time', 'Start_Station',\n",
      "       'Start_Station_ID', 'End_Station', 'End_Station_ID', 'Start_latitude',\n",
      "       'Start_longitude', 'End_latitude', 'End_longitude', 'User_Type',\n",
      "       'Ride_Duration_Min', 'Day_Of_Week'],\n",
      "      dtype='object')\n"
     ]
    }
   ],
   "source": [
    "# Create a mapping of old column names to new names\n",
    "rename_columns = {\n",
    "    'ride_id': 'Ride_ID',\n",
    "    'rideable_type': 'Bike_type',\n",
    "    'started_at': 'Start_time',\n",
    "    'ended_at': 'End_time',\n",
    "    'start_station_name': 'Start_Station',\n",
    "    'start_station_id': 'Start_Station_ID',\n",
    "    'end_station_name': 'End_Station',\n",
    "    'end_station_id': 'End_Station_ID',\n",
    "    'start_lat': 'Start_latitude',\n",
    "    'start_lng': 'Start_longitude',\n",
    "    'end_lat': 'End_latitude',\n",
    "    'end_lng': 'End_longitude',\n",
    "    'member_casual': 'User_Type',\n",
    "    'ride_length': 'Ride_Duration_Min',\n",
    "    'day_of_week': 'Day_Of_Week'\n",
    "}\n",
    "# Apply renaming of columns\n",
    "df_cleaned = df_cleaned.rename(columns=rename_columns)\n",
    "\n",
    "# Check the updated column names\n",
    "print(df_cleaned.columns)"
   ]
  },
  {
   "cell_type": "code",
   "execution_count": 21,
   "id": "23446624-e9dc-4c36-b657-1bc784ca95b8",
   "metadata": {},
   "outputs": [
    {
     "data": {
      "text/html": [
       "<div>\n",
       "<style scoped>\n",
       "    .dataframe tbody tr th:only-of-type {\n",
       "        vertical-align: middle;\n",
       "    }\n",
       "\n",
       "    .dataframe tbody tr th {\n",
       "        vertical-align: top;\n",
       "    }\n",
       "\n",
       "    .dataframe thead th {\n",
       "        text-align: right;\n",
       "    }\n",
       "</style>\n",
       "<table border=\"1\" class=\"dataframe\">\n",
       "  <thead>\n",
       "    <tr style=\"text-align: right;\">\n",
       "      <th></th>\n",
       "      <th>Ride_ID</th>\n",
       "      <th>Bike_type</th>\n",
       "      <th>Start_time</th>\n",
       "      <th>End_time</th>\n",
       "      <th>Start_Station</th>\n",
       "      <th>Start_Station_ID</th>\n",
       "      <th>End_Station</th>\n",
       "      <th>End_Station_ID</th>\n",
       "      <th>Start_latitude</th>\n",
       "      <th>Start_longitude</th>\n",
       "      <th>End_latitude</th>\n",
       "      <th>End_longitude</th>\n",
       "      <th>User_Type</th>\n",
       "      <th>Ride_Duration_Min</th>\n",
       "      <th>Day_Of_Week</th>\n",
       "    </tr>\n",
       "  </thead>\n",
       "  <tbody>\n",
       "    <tr>\n",
       "      <th>0</th>\n",
       "      <td>C1D650626C8C899A</td>\n",
       "      <td>electric_bike</td>\n",
       "      <td>2024-01-12 15:30:27</td>\n",
       "      <td>2024-01-12 15:37:59</td>\n",
       "      <td>Wells St &amp; Elm St</td>\n",
       "      <td>KA1504000135</td>\n",
       "      <td>Kingsbury St &amp; Kinzie St</td>\n",
       "      <td>KA1503000043</td>\n",
       "      <td>41.903267</td>\n",
       "      <td>-87.634737</td>\n",
       "      <td>41.889177</td>\n",
       "      <td>-87.638506</td>\n",
       "      <td>member</td>\n",
       "      <td>7.533333</td>\n",
       "      <td>Friday</td>\n",
       "    </tr>\n",
       "    <tr>\n",
       "      <th>1</th>\n",
       "      <td>EECD38BDB25BFCB0</td>\n",
       "      <td>electric_bike</td>\n",
       "      <td>2024-01-08 15:45:46</td>\n",
       "      <td>2024-01-08 15:52:59</td>\n",
       "      <td>Wells St &amp; Elm St</td>\n",
       "      <td>KA1504000135</td>\n",
       "      <td>Kingsbury St &amp; Kinzie St</td>\n",
       "      <td>KA1503000043</td>\n",
       "      <td>41.902937</td>\n",
       "      <td>-87.634440</td>\n",
       "      <td>41.889177</td>\n",
       "      <td>-87.638506</td>\n",
       "      <td>member</td>\n",
       "      <td>7.216667</td>\n",
       "      <td>Monday</td>\n",
       "    </tr>\n",
       "    <tr>\n",
       "      <th>2</th>\n",
       "      <td>F4A9CE78061F17F7</td>\n",
       "      <td>electric_bike</td>\n",
       "      <td>2024-01-27 12:27:19</td>\n",
       "      <td>2024-01-27 12:35:19</td>\n",
       "      <td>Wells St &amp; Elm St</td>\n",
       "      <td>KA1504000135</td>\n",
       "      <td>Kingsbury St &amp; Kinzie St</td>\n",
       "      <td>KA1503000043</td>\n",
       "      <td>41.902951</td>\n",
       "      <td>-87.634470</td>\n",
       "      <td>41.889177</td>\n",
       "      <td>-87.638506</td>\n",
       "      <td>member</td>\n",
       "      <td>8.000000</td>\n",
       "      <td>Saturday</td>\n",
       "    </tr>\n",
       "    <tr>\n",
       "      <th>3</th>\n",
       "      <td>0A0D9E15EE50B171</td>\n",
       "      <td>classic_bike</td>\n",
       "      <td>2024-01-29 16:26:17</td>\n",
       "      <td>2024-01-29 16:56:06</td>\n",
       "      <td>Wells St &amp; Randolph St</td>\n",
       "      <td>TA1305000030</td>\n",
       "      <td>Larrabee St &amp; Webster Ave</td>\n",
       "      <td>13193</td>\n",
       "      <td>41.884295</td>\n",
       "      <td>-87.633963</td>\n",
       "      <td>41.921822</td>\n",
       "      <td>-87.644140</td>\n",
       "      <td>member</td>\n",
       "      <td>29.816667</td>\n",
       "      <td>Monday</td>\n",
       "    </tr>\n",
       "    <tr>\n",
       "      <th>4</th>\n",
       "      <td>33FFC9805E3EFF9A</td>\n",
       "      <td>classic_bike</td>\n",
       "      <td>2024-01-31 05:43:23</td>\n",
       "      <td>2024-01-31 06:09:35</td>\n",
       "      <td>Lincoln Ave &amp; Waveland Ave</td>\n",
       "      <td>13253</td>\n",
       "      <td>Kingsbury St &amp; Kinzie St</td>\n",
       "      <td>KA1503000043</td>\n",
       "      <td>41.948797</td>\n",
       "      <td>-87.675278</td>\n",
       "      <td>41.889177</td>\n",
       "      <td>-87.638506</td>\n",
       "      <td>member</td>\n",
       "      <td>26.200000</td>\n",
       "      <td>Wednesday</td>\n",
       "    </tr>\n",
       "  </tbody>\n",
       "</table>\n",
       "</div>"
      ],
      "text/plain": [
       "            Ride_ID      Bike_type          Start_time            End_time  \\\n",
       "0  C1D650626C8C899A  electric_bike 2024-01-12 15:30:27 2024-01-12 15:37:59   \n",
       "1  EECD38BDB25BFCB0  electric_bike 2024-01-08 15:45:46 2024-01-08 15:52:59   \n",
       "2  F4A9CE78061F17F7  electric_bike 2024-01-27 12:27:19 2024-01-27 12:35:19   \n",
       "3  0A0D9E15EE50B171   classic_bike 2024-01-29 16:26:17 2024-01-29 16:56:06   \n",
       "4  33FFC9805E3EFF9A   classic_bike 2024-01-31 05:43:23 2024-01-31 06:09:35   \n",
       "\n",
       "                Start_Station Start_Station_ID                End_Station  \\\n",
       "0           Wells St & Elm St     KA1504000135   Kingsbury St & Kinzie St   \n",
       "1           Wells St & Elm St     KA1504000135   Kingsbury St & Kinzie St   \n",
       "2           Wells St & Elm St     KA1504000135   Kingsbury St & Kinzie St   \n",
       "3      Wells St & Randolph St     TA1305000030  Larrabee St & Webster Ave   \n",
       "4  Lincoln Ave & Waveland Ave            13253   Kingsbury St & Kinzie St   \n",
       "\n",
       "  End_Station_ID  Start_latitude  Start_longitude  End_latitude  \\\n",
       "0   KA1503000043       41.903267       -87.634737     41.889177   \n",
       "1   KA1503000043       41.902937       -87.634440     41.889177   \n",
       "2   KA1503000043       41.902951       -87.634470     41.889177   \n",
       "3          13193       41.884295       -87.633963     41.921822   \n",
       "4   KA1503000043       41.948797       -87.675278     41.889177   \n",
       "\n",
       "   End_longitude User_Type  Ride_Duration_Min Day_Of_Week  \n",
       "0     -87.638506    member           7.533333      Friday  \n",
       "1     -87.638506    member           7.216667      Monday  \n",
       "2     -87.638506    member           8.000000    Saturday  \n",
       "3     -87.644140    member          29.816667      Monday  \n",
       "4     -87.638506    member          26.200000   Wednesday  "
      ]
     },
     "execution_count": 21,
     "metadata": {},
     "output_type": "execute_result"
    }
   ],
   "source": [
    "df_cleaned.head()"
   ]
  },
  {
   "cell_type": "markdown",
   "id": "1ff1e0d3-f100-4dfd-8ffe-fa6845239b10",
   "metadata": {},
   "source": [
    "### Save the dataset to a new .csv file"
   ]
  },
  {
   "cell_type": "code",
   "execution_count": 22,
   "id": "675ef6d5-453a-412e-827c-829b2355a633",
   "metadata": {},
   "outputs": [],
   "source": [
    "df_cleaned.to_csv('cleaned_cyclistic_data.csv', index=False)"
   ]
  },
  {
   "cell_type": "markdown",
   "id": "37fdc7eb-d050-49ba-bd86-75fe2fe363e8",
   "metadata": {},
   "source": [
    "## Now we will Perform data analysis\n",
    "We will perform data analysis to gather some useful insights"
   ]
  },
  {
   "cell_type": "code",
   "execution_count": 25,
   "id": "6b301b02-8d7f-42df-8a67-b1042f2168a3",
   "metadata": {},
   "outputs": [
    {
     "name": "stdout",
     "output_type": "stream",
     "text": [
      "Total rides: 2537202\n"
     ]
    }
   ],
   "source": [
    "# Total rides done across 12 months\n",
    "total_rides = len(df_cleaned)\n",
    "print(\"Total rides:\", total_rides)"
   ]
  },
  {
   "cell_type": "code",
   "execution_count": 27,
   "id": "63ee2733-1035-4e56-89b5-ecc62a191cb7",
   "metadata": {},
   "outputs": [
    {
     "name": "stdout",
     "output_type": "stream",
     "text": [
      "User_Type\n",
      "member    1777076\n",
      "casual     760126\n",
      "Name: count, dtype: int64\n"
     ]
    }
   ],
   "source": [
    "# Rides by user_types(Members vs casual)\n",
    "user_type_counts = df_cleaned['User_Type'].value_counts()\n",
    "print(user_type_counts)"
   ]
  },
  {
   "cell_type": "code",
   "execution_count": 29,
   "id": "1244e458-c2a0-4a01-a309-545b8e9d209c",
   "metadata": {},
   "outputs": [
    {
     "name": "stdout",
     "output_type": "stream",
     "text": [
      "Average ride duration (minutes): 15.87\n"
     ]
    }
   ],
   "source": [
    "# Overall average ride duration\n",
    "average_ride_duration = df_cleaned['Ride_Duration_Min'].mean()\n",
    "print(\"Average ride duration (minutes):\", round(average_ride_duration, 2))"
   ]
  },
  {
   "cell_type": "code",
   "execution_count": 30,
   "id": "3014c846-6f39-4650-a288-098121bd67c8",
   "metadata": {},
   "outputs": [
    {
     "name": "stdout",
     "output_type": "stream",
     "text": [
      "User_Type\n",
      "casual    24.318651\n",
      "member    12.263075\n",
      "Name: Ride_Duration_Min, dtype: float64\n"
     ]
    }
   ],
   "source": [
    "# Average ride duration by user type\n",
    "avg_duration_by_user = df_cleaned.groupby('User_Type')['Ride_Duration_Min'].mean()\n",
    "print(avg_duration_by_user)"
   ]
  },
  {
   "cell_type": "code",
   "execution_count": 31,
   "id": "91c2bc6e-2119-4956-984f-579a855c1e0c",
   "metadata": {},
   "outputs": [
    {
     "name": "stdout",
     "output_type": "stream",
     "text": [
      "   User_Type Day_Of_Week  Ride_Duration_Min\n",
      "0     casual      Friday          22.791089\n",
      "1     casual      Monday          24.211561\n",
      "2     casual    Saturday          28.095076\n",
      "3     casual      Sunday          28.765028\n",
      "4     casual    Thursday          19.543267\n",
      "5     casual     Tuesday          20.762886\n",
      "6     casual   Wednesday          21.213848\n",
      "7     member      Friday          11.652485\n",
      "8     member      Monday          11.857485\n",
      "9     member    Saturday          14.034996\n",
      "10    member      Sunday          13.709608\n",
      "11    member    Thursday          11.450787\n",
      "12    member     Tuesday          11.989946\n",
      "13    member   Wednesday          12.035865\n"
     ]
    }
   ],
   "source": [
    "# Average Ride Duration by Day of the Week and User Type\n",
    "avg_duration_day_user = df_cleaned.groupby(['User_Type', 'Day_Of_Week'])['Ride_Duration_Min'].mean().reset_index()\n",
    "print(avg_duration_day_user)"
   ]
  },
  {
   "cell_type": "code",
   "execution_count": 32,
   "id": "60082c63-2677-42de-a5fb-d6252c779ff7",
   "metadata": {},
   "outputs": [
    {
     "name": "stdout",
     "output_type": "stream",
     "text": [
      "   User_Type Day_Of_Week  number_of_rides\n",
      "0     casual      Friday           106018\n",
      "1     casual      Monday            96740\n",
      "2     casual    Saturday           162914\n",
      "3     casual      Sunday           127892\n",
      "4     casual    Thursday            86648\n",
      "5     casual     Tuesday            86936\n",
      "6     casual   Wednesday            92978\n",
      "7     member      Friday           244192\n",
      "8     member      Monday           265340\n",
      "9     member    Saturday           210636\n",
      "10    member      Sunday           181352\n",
      "11    member    Thursday           284904\n",
      "12    member     Tuesday           287812\n",
      "13    member   Wednesday           302840\n"
     ]
    }
   ],
   "source": [
    "# Number of rides per day of week\n",
    "rides_per_day = df_cleaned.groupby(['User_Type', 'Day_Of_Week']).size().reset_index(name='number_of_rides')\n",
    "print(rides_per_day)"
   ]
  },
  {
   "cell_type": "code",
   "execution_count": 33,
   "id": "8cbda291-f778-427f-ba1f-1c9e73c4c044",
   "metadata": {},
   "outputs": [
    {
     "name": "stdout",
     "output_type": "stream",
     "text": [
      "  User_Type      Bike_type  number_of_rides\n",
      "0    casual   classic_bike           501216\n",
      "1    casual  electric_bike           258910\n",
      "2    member   classic_bike          1215098\n",
      "3    member  electric_bike           561978\n"
     ]
    }
   ],
   "source": [
    "# Bike type usage\n",
    "bike_type_usage = df_cleaned.groupby(['User_Type', 'Bike_type']).size().reset_index(name='number_of_rides')\n",
    "print(bike_type_usage)"
   ]
  },
  {
   "cell_type": "code",
   "execution_count": 35,
   "id": "3be87992-fdd7-471b-abe1-30a8ce3b3d75",
   "metadata": {},
   "outputs": [
    {
     "name": "stdout",
     "output_type": "stream",
     "text": [
      "   User_Type  start_hour  number_of_rides\n",
      "0     casual           0             8918\n",
      "1     casual           1             5934\n",
      "2     casual           2             3698\n",
      "3     casual           3             2004\n",
      "4     casual           4             1430\n",
      "5     casual           5             3798\n",
      "6     casual           6             9124\n",
      "7     casual           7            18638\n",
      "8     casual           8            27098\n",
      "9     casual           9            27080\n",
      "10    casual          10            34806\n",
      "11    casual          11            44898\n",
      "12    casual          12            54464\n",
      "13    casual          13            57226\n",
      "14    casual          14            59240\n",
      "15    casual          15            64662\n",
      "16    casual          16            75274\n",
      "17    casual          17            77896\n",
      "18    casual          18            60138\n",
      "19    casual          19            41716\n",
      "20    casual          20            27820\n",
      "21    casual          21            22286\n",
      "22    casual          22            18868\n",
      "23    casual          23            13110\n",
      "24    member           0            11622\n",
      "25    member           1             6480\n",
      "26    member           2             3488\n",
      "27    member           3             2430\n",
      "28    member           4             3694\n",
      "29    member           5            16964\n",
      "30    member           6            55184\n",
      "31    member           7           105720\n",
      "32    member           8           131796\n",
      "33    member           9            84478\n",
      "34    member          10            72846\n",
      "35    member          11            86362\n",
      "36    member          12           100468\n",
      "37    member          13           100776\n",
      "38    member          14           101188\n",
      "39    member          15           124608\n",
      "40    member          16           172470\n",
      "41    member          17           198608\n",
      "42    member          18           142004\n",
      "43    member          19            94372\n",
      "44    member          20            63814\n",
      "45    member          21            46846\n",
      "46    member          22            31432\n",
      "47    member          23            19426\n"
     ]
    }
   ],
   "source": [
    "# Hourly usage\n",
    "df_cleaned['start_hour'] = df_cleaned['Start_time'].dt.hour\n",
    "rides_by_hour = df_cleaned.groupby(['User_Type', 'start_hour']).size().reset_index(name='number_of_rides')\n",
    "print(rides_by_hour)"
   ]
  },
  {
   "cell_type": "markdown",
   "id": "ec9684a5-8f73-4493-be1d-f3617c34ae0b",
   "metadata": {},
   "source": [
    "## Now visualize the insights"
   ]
  },
  {
   "cell_type": "markdown",
   "id": "387d8dfb-64eb-450c-8b85-0bf26212b38f",
   "metadata": {},
   "source": [
    "### 1. Rides By User_Type"
   ]
  },
  {
   "cell_type": "code",
   "execution_count": 38,
   "id": "4a96c7f1-028f-45c3-bcf6-a97a63147927",
   "metadata": {},
   "outputs": [
    {
     "data": {
      "image/png": "[encoded data removed]",
      "text/plain": [
       "<Figure size 600x600 with 1 Axes>"
      ]
     },
     "metadata": {},
     "output_type": "display_data"
    }
   ],
   "source": [
    "sns.set_theme(style=\"whitegrid\")\n",
    "user_type_counts = df_cleaned['User_Type'].value_counts()\n",
    "\n",
    "plt.figure(figsize=(6,6))\n",
    "plt.pie(user_type_counts, labels=user_type_counts.index, autopct='%1.1f%%', startangle=140, colors=['skyblue', 'lightgreen'])\n",
    "plt.title('Distribution of Rides: Members vs Casual Riders')\n",
    "plt.show()"
   ]
  },
  {
   "cell_type": "markdown",
   "id": "ef1bb93c-2997-48b7-ad57-580ff0c2512d",
   "metadata": {},
   "source": [
    "### 2. Number of rides by Day_Of_Week"
   ]
  },
  {
   "cell_type": "code",
   "execution_count": 47,
   "id": "4ee3f88f-767e-446b-8294-e3ad1a97d940",
   "metadata": {},
   "outputs": [
    {
     "data": {
      "image/png": "[encoded data removed]",
      "text/plain": [
       "<Figure size 1000x600 with 1 Axes>"
      ]
     },
     "metadata": {},
     "output_type": "display_data"
    }
   ],
   "source": [
    "day_order = ['Sunday', 'Monday', 'Tuesday', 'Wednesday', 'Thursday', 'Friday', 'Saturday']\n",
    "\n",
    "rides_per_day = df_cleaned.groupby(['User_Type', 'Day_Of_Week']).size().reset_index(name='number_of_rides')\n",
    "\n",
    "plt.figure(figsize=(10,6))\n",
    "sns.barplot(data=rides_per_day, x='Day_Of_Week', y='number_of_rides', hue='User_Type', order=day_order)\n",
    "plt.title('Number of Rides by Day of Week')\n",
    "plt.xlabel('Day of the Week')\n",
    "plt.ylabel('Number of Rides')\n",
    "plt.legend(title='User Type')\n",
    "plt.xticks(rotation=45)\n",
    "plt.show()"
   ]
  },
  {
   "cell_type": "markdown",
   "id": "143ae66a-ef1e-4d82-a396-a3b7c973b71d",
   "metadata": {},
   "source": [
    "### 3. Average ride duration by User_Type"
   ]
  },
  {
   "cell_type": "code",
   "execution_count": 48,
   "id": "3eaebcf2-edc9-4dde-9485-f563cd6dbb11",
   "metadata": {},
   "outputs": [
    {
     "data": {
      "image/png": "[encoded data removed]",
      "text/plain": [
       "<Figure size 600x400 with 1 Axes>"
      ]
     },
     "metadata": {},
     "output_type": "display_data"
    }
   ],
   "source": [
    "avg_duration_by_user = df_cleaned.groupby('User_Type')['Ride_Duration_Min'].mean().reset_index()\n",
    "\n",
    "# Bar chart\n",
    "plt.figure(figsize=(6,4))\n",
    "sns.barplot(data=avg_duration_by_user, x='User_Type', y='Ride_Duration_Min',hue = 'User_Type', palette='pastel')\n",
    "plt.title('Average Ride Duration by User Type')\n",
    "plt.ylabel('Average Ride Duration (minutes)')\n",
    "plt.xlabel('User Type')\n",
    "plt.show()"
   ]
  },
  {
   "cell_type": "markdown",
   "id": "7585bc96-9624-4808-9363-6200d7ac5565",
   "metadata": {},
   "source": [
    "### 4. Bike Type usage"
   ]
  },
  {
   "cell_type": "code",
   "execution_count": 49,
   "id": "e6e8dc6f-2ceb-45f0-9759-1385a774217b",
   "metadata": {},
   "outputs": [
    {
     "data": {
      "image/png": "[encoded data removed]",
      "text/plain": [
       "<Figure size 1000x600 with 1 Axes>"
      ]
     },
     "metadata": {},
     "output_type": "display_data"
    }
   ],
   "source": [
    "# Bike Type usage\n",
    "bike_type_usage = df_cleaned.groupby(['User_Type', 'Bike_type']).size().reset_index(name='number_of_rides')\n",
    "\n",
    "# Bar plot\n",
    "plt.figure(figsize=(10,6))\n",
    "sns.barplot(data=bike_type_usage, x='Bike_type', y='number_of_rides', hue='User_Type')\n",
    "plt.title('Bike Type Usage by User Type')\n",
    "plt.xlabel('Bike Type')\n",
    "plt.ylabel('Number of Rides')\n",
    "plt.legend(title='User Type')\n",
    "plt.show()"
   ]
  },
  {
   "cell_type": "markdown",
   "id": "6ef1af77-ba08-475b-9f5e-a839ab52ac5a",
   "metadata": {},
   "source": [
    "### 5. Rides By hour of day"
   ]
  },
  {
   "cell_type": "code",
   "execution_count": 50,
   "id": "530aed84-e62b-4ae9-8ac4-1b8592e1561a",
   "metadata": {},
   "outputs": [
    {
     "data": {
      "image/png": "[encoded data removed]",
      "text/plain": [
       "<Figure size 1200x600 with 1 Axes>"
      ]
     },
     "metadata": {},
     "output_type": "display_data"
    }
   ],
   "source": [
    "# Create 'start_hour' column if missing\n",
    "if 'start_hour' not in df_cleaned.columns:\n",
    "    df_cleaned['start_hour'] = df_cleaned['Start_time'].dt.hour\n",
    "\n",
    "rides_by_hour = df_cleaned.groupby(['User_Type', 'start_hour']).size().reset_index(name='number_of_rides')\n",
    "\n",
    "# Line plot\n",
    "plt.figure(figsize=(12,6))\n",
    "sns.lineplot(data=rides_by_hour, x='start_hour', y='number_of_rides', hue='User_Type', marker=\"o\")\n",
    "plt.title('Number of Rides by Hour of the Day')\n",
    "plt.xlabel('Hour of the Day')\n",
    "plt.ylabel('Number of Rides')\n",
    "plt.xticks(range(0,24))\n",
    "plt.grid(True)\n",
    "plt.legend(title='User Type')\n",
    "plt.show()\n"
   ]
  },
  {
   "cell_type": "markdown",
   "id": "504d64a8-df5a-41f1-91aa-23002266d8bc",
   "metadata": {},
   "source": [
    "### Key insights\n",
    "1) User distribution:\n",
    "    According to the pie chart 70% riders are memebrs and 30% riders are casual\n",
    "   \n",
    "2) Ride behaviour by Day_Of_Week:\n",
    "    Casual riders prefer weekends such as saturdays and sundays while memebers prefer the rides during weekdays. So it shows that they both have            different purposes.\n",
    "   \n",
    "3) Ride Duration:\n",
    "    Casual riders take longer rides on average compared to members.\n",
    "    Members prefer shorter, quicker rides — likely for commuting or short trips.\n",
    "\n",
    "4) Bike Type Preference:\n",
    "    Casual riders tend to use classic bikes more\n",
    "    Members use a mix of classic and electric bikes.\n",
    "    E-bikes are getting increasingly popular among both groups.\n",
    "\n",
    "5) Peak Ride Hours:\n",
    "    Casual riders are most active during late mornings to afternoons (10 AM - 4 PM).\n",
    "    Members show clear peaks at morning (8 AM) and evening (5-6 PM) — classic work commute patterns.\n"
   ]
  },
  {
   "cell_type": "markdown",
   "id": "d32bb83f-df1f-410a-9732-04f989c34807",
   "metadata": {},
   "source": [
    "### Business Recommendations\n",
    "1) Target Casual Riders with Weekend Promotions:\n",
    "    Launch special weekend discounts or day passes to encourage casual riders to ride more often.\n",
    "\n",
    "2) Encourage the casual users to buy the membership:\n",
    "    Highlight membership benefits like cost savings and ride flexibility during weekend rides (through app notifications, email marketing).\n",
    "\n",
    "3) Promote E-Bike Membership Packages:\n",
    "    Since e-bikes are popular, create special membership packages offering free or discounted e-bike usage.\n",
    "\n",
    "4) Commuter-Focused Marketing for Members:\n",
    "    Develop monthly commuter plans targeting working professionals, offering additional perks like guaranteed bike availability during rush hours.\n",
    "\n",
    "5) Optimize Bike Distribution:\n",
    "    Based on peak usage times, reallocate bikes to busy areas in the morning (offices, business hubs) and evening (residential areas).\n",
    "    Make sure enough bikes are available for casual riders at parks, waterfronts, and tourist spots during weekends."
   ]
  },
  {
   "cell_type": "code",
   "execution_count": null,
   "id": "097a2adb-0307-4421-aa53-d5642a29eeeb",
   "metadata": {},
   "outputs": [],
   "source": []
  }
 ],
 "metadata": {
  "kernelspec": {
   "display_name": "Python 3 (ipykernel)",
   "language": "python",
   "name": "python3"
  },
  "language_info": {
   "codemirror_mode": {
    "name": "ipython",
    "version": 3
   },
   "file_extension": ".py",
   "mimetype": "text/x-python",
   "name": "python",
   "nbconvert_exporter": "python",
   "pygments_lexer": "ipython3",
   "version": "3.13.2"
  }
 },
 "nbformat": 4,
 "nbformat_minor": 5
}
